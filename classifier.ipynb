{
 "cells": [
  {
   "cell_type": "code",
   "execution_count": null,
   "metadata": {},
   "outputs": [],
   "source": [
    "# import keras\n",
    "import tensorflow\n",
    "from keras.models import Sequential\n",
    "from keras.layers import Dense, Dropout, Flatten\n",
    "from keras.layers import Conv2D, MaxPooling2D\n",
    "from keras.utils import to_categorical\n",
    "from keras.preprocessing import image \n",
    "import numpy as np\n",
    "import pandas as pd\n",
    "import matplotlib.pyplot as plt\n",
    "from sklearn.model_selection import train_test_split\n",
    "from sklearn.preprocessing import LabelEncoder\n",
    "from keras.utils import to_categorical\n",
    "from tqdm import tqdm\n",
    "\n",
    "train=pd.read_csv('Train.csv')\n",
    "\n",
    "train_image = []\n",
    "for i in tqdm(range(train.shape[0])):\n",
    "    img = image.load_img('train/'+str(i+1)+'.png', target_size=(28,28,1), color_mode=\"grayscale\")\n",
    "    img = image.img_to_array(img)\n",
    "    img = img/255\n",
    "    train_image.append(img)\n",
    "X = np.array(train_image)\n",
    "\n",
    "lb_make = LabelEncoder()\n",
    "y=train['category']\n",
    "y=lb_make.fit_transform(y)\n",
    "Y=tensorflow.keras.utils.to_categorical(y, 16)\n",
    "\n",
    "X_train, X_test, y_train, y_test = train_test_split(X, Y, random_state=42, test_size=0.2)"
   ]
  },
  {
   "cell_type": "code",
   "execution_count": 4,
   "metadata": {},
   "outputs": [
    {
     "name": "stdout",
     "output_type": "stream",
     "text": [
      "WARNING:tensorflow:From C:\\ProgramData\\Anaconda3\\lib\\site-packages\\keras\\backend\\tensorflow_backend.py:4070: The name tf.nn.max_pool is deprecated. Please use tf.nn.max_pool2d instead.\n",
      "\n"
     ]
    }
   ],
   "source": [
    "model = Sequential() \n",
    "model.add(Conv2D(32, kernel_size=(3, 3),activation='relu',input_shape=(28,28,1)))\n",
    "model.add(Conv2D(64, (3, 3), activation='relu'))\n",
    "model.add(MaxPooling2D(pool_size=(2, 2)))\n",
    "model.add(Dropout(0.25))\n",
    "model.add(Flatten())\n",
    "model.add(Dense(256, activation='relu'))\n",
    "model.add(Dropout(0.5))\n",
    "model.add(Dense(16, activation='softmax'))"
   ]
  },
  {
   "cell_type": "code",
   "execution_count": 5,
   "metadata": {},
   "outputs": [
    {
     "name": "stdout",
     "output_type": "stream",
     "text": [
      "Model: \"sequential_1\"\n",
      "_________________________________________________________________\n",
      "Layer (type)                 Output Shape              Param #   \n",
      "=================================================================\n",
      "conv2d_1 (Conv2D)            (None, 26, 26, 32)        320       \n",
      "_________________________________________________________________\n",
      "conv2d_2 (Conv2D)            (None, 24, 24, 64)        18496     \n",
      "_________________________________________________________________\n",
      "max_pooling2d_1 (MaxPooling2 (None, 12, 12, 64)        0         \n",
      "_________________________________________________________________\n",
      "dropout_1 (Dropout)          (None, 12, 12, 64)        0         \n",
      "_________________________________________________________________\n",
      "flatten_1 (Flatten)          (None, 9216)              0         \n",
      "_________________________________________________________________\n",
      "dense_1 (Dense)              (None, 256)               2359552   \n",
      "_________________________________________________________________\n",
      "dropout_2 (Dropout)          (None, 256)               0         \n",
      "_________________________________________________________________\n",
      "dense_2 (Dense)              (None, 16)                4112      \n",
      "=================================================================\n",
      "Total params: 2,382,480\n",
      "Trainable params: 2,382,480\n",
      "Non-trainable params: 0\n",
      "_________________________________________________________________\n"
     ]
    }
   ],
   "source": [
    "model.compile(loss='categorical_crossentropy',optimizer='adam',metrics=['accuracy'])\n",
    "model.summary()"
   ]
  },
  {
   "cell_type": "code",
   "execution_count": 6,
   "metadata": {},
   "outputs": [
    {
     "name": "stdout",
     "output_type": "stream",
     "text": [
      "WARNING:tensorflow:From C:\\ProgramData\\Anaconda3\\lib\\site-packages\\keras\\backend\\tensorflow_backend.py:422: The name tf.global_variables is deprecated. Please use tf.compat.v1.global_variables instead.\n",
      "\n",
      "Train on 3572 samples, validate on 893 samples\n",
      "Epoch 1/20\n",
      " - 21s - loss: 1.6117 - accuracy: 0.4457 - val_loss: 0.9001 - val_accuracy: 0.6887\n",
      "Epoch 2/20\n",
      " - 12s - loss: 0.9149 - accuracy: 0.6629 - val_loss: 0.6460 - val_accuracy: 0.7704\n",
      "Epoch 3/20\n",
      " - 12s - loss: 0.6839 - accuracy: 0.7472 - val_loss: 0.5238 - val_accuracy: 0.7996\n",
      "Epoch 4/20\n",
      " - 12s - loss: 0.5521 - accuracy: 0.7987 - val_loss: 0.4347 - val_accuracy: 0.8399\n",
      "Epoch 5/20\n",
      " - 12s - loss: 0.4601 - accuracy: 0.8320 - val_loss: 0.4092 - val_accuracy: 0.8331\n",
      "Epoch 6/20\n",
      " - 12s - loss: 0.3821 - accuracy: 0.8583 - val_loss: 0.3462 - val_accuracy: 0.8723\n",
      "Epoch 7/20\n",
      " - 12s - loss: 0.3479 - accuracy: 0.8704 - val_loss: 0.3298 - val_accuracy: 0.8802\n",
      "Epoch 8/20\n",
      " - 12s - loss: 0.3053 - accuracy: 0.8782 - val_loss: 0.3202 - val_accuracy: 0.8768\n",
      "Epoch 9/20\n",
      " - 12s - loss: 0.2663 - accuracy: 0.8947 - val_loss: 0.3251 - val_accuracy: 0.8667\n",
      "Epoch 10/20\n",
      " - 12s - loss: 0.2406 - accuracy: 0.9043 - val_loss: 0.2957 - val_accuracy: 0.8757\n",
      "Epoch 11/20\n",
      " - 12s - loss: 0.2158 - accuracy: 0.9141 - val_loss: 0.2837 - val_accuracy: 0.8847\n",
      "Epoch 12/20\n",
      " - 12s - loss: 0.1995 - accuracy: 0.9166 - val_loss: 0.2752 - val_accuracy: 0.9037\n",
      "Epoch 13/20\n",
      " - 12s - loss: 0.1966 - accuracy: 0.9191 - val_loss: 0.2555 - val_accuracy: 0.8925\n",
      "Epoch 14/20\n",
      " - 12s - loss: 0.1700 - accuracy: 0.9331 - val_loss: 0.2578 - val_accuracy: 0.8981\n",
      "Epoch 15/20\n",
      " - 12s - loss: 0.1640 - accuracy: 0.9359 - val_loss: 0.2723 - val_accuracy: 0.8914\n",
      "Epoch 16/20\n",
      " - 12s - loss: 0.1391 - accuracy: 0.9476 - val_loss: 0.2822 - val_accuracy: 0.9037\n",
      "Epoch 17/20\n",
      " - 12s - loss: 0.1412 - accuracy: 0.9423 - val_loss: 0.2433 - val_accuracy: 0.9071\n",
      "Epoch 18/20\n",
      " - 12s - loss: 0.1356 - accuracy: 0.9448 - val_loss: 0.2667 - val_accuracy: 0.9082\n",
      "Epoch 19/20\n",
      " - 13s - loss: 0.1195 - accuracy: 0.9524 - val_loss: 0.2660 - val_accuracy: 0.9082\n",
      "Epoch 20/20\n",
      " - 12s - loss: 0.1295 - accuracy: 0.9474 - val_loss: 0.2812 - val_accuracy: 0.9015\n"
     ]
    }
   ],
   "source": [
    "history = model.fit(X_train, y_train,\n",
    "                    epochs=20,\n",
    "                    verbose=2,\n",
    "                    validation_data=(X_test, y_test))"
   ]
  },
  {
   "cell_type": "code",
   "execution_count": 7,
   "metadata": {},
   "outputs": [
    {
     "name": "stderr",
     "output_type": "stream",
     "text": [
      "100%|██████████████████████████████████████████████████████████████████████████████| 1914/1914 [00:43<00:00, 43.57it/s]\n"
     ]
    }
   ],
   "source": [
    "test=pd.read_csv('Test.csv')\n",
    "test_image = []\n",
    "for i in tqdm(range(test.shape[0])):\n",
    "    img = image.load_img('test/'+str(4466+i)+'.png', target_size=(28,28,1), color_mode=\"grayscale\")\n",
    "    img = image.img_to_array(img)\n",
    "    img = img/255\n",
    "    test_image.append(img)\n",
    "test = np.array(test_image)"
   ]
  },
  {
   "cell_type": "code",
   "execution_count": 8,
   "metadata": {},
   "outputs": [],
   "source": [
    "prediction = model.predict_classes(test)\n",
    "sample = pd.read_csv('Test.csv')\n",
    "sample['category'] = prediction+1\n",
    "sample.to_csv('predictions.csv', header=True, index=False)"
   ]
  },
  {
   "cell_type": "code",
   "execution_count": null,
   "metadata": {},
   "outputs": [],
   "source": []
  }
 ],
 "metadata": {
  "kernelspec": {
   "display_name": "Python 3",
   "language": "python",
   "name": "python3"
  },
  "language_info": {
   "codemirror_mode": {
    "name": "ipython",
    "version": 3
   },
   "file_extension": ".py",
   "mimetype": "text/x-python",
   "name": "python",
   "nbconvert_exporter": "python",
   "pygments_lexer": "ipython3",
   "version": "3.7.3"
  }
 },
 "nbformat": 4,
 "nbformat_minor": 2
}
